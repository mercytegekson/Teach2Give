{
 "cells": [
  {
   "cell_type": "markdown",
   "metadata": {},
   "source": [
    "Importing libraries and creating database and tables"
   ]
  },
  {
   "cell_type": "code",
   "execution_count": 1,
   "metadata": {},
   "outputs": [
    {
     "name": "stdout",
     "output_type": "stream",
     "text": [
      "Tables created successfully!\n"
     ]
    }
   ],
   "source": [
    "import sqlite3\n",
    "\n",
    "# Connect to SQLite database (or create it if it doesn't exist)\n",
    "mydb = sqlite3.connect(\"race_results.db\")\n",
    "mycursor = mydb.cursor()\n",
    "\n",
    "# Create the circuits table\n",
    "mycursor.execute('''\n",
    "CREATE TABLE IF NOT EXISTS circuits (\n",
    "    circuitId INTEGER PRIMARY KEY,\n",
    "    circuit_location TEXT\n",
    ");\n",
    "''')\n",
    "\n",
    "# Create the races table\n",
    "mycursor.execute('''\n",
    "CREATE TABLE IF NOT EXISTS races (\n",
    "    raceId INTEGER PRIMARY KEY,\n",
    "    race_name TEXT,\n",
    "    race_date TEXT,\n",
    "    race_year INTEGER,\n",
    "    race_time TEXT,\n",
    "    circuitId INTEGER,\n",
    "    FOREIGN KEY (circuitId) REFERENCES circuits(circuitId)\n",
    ");\n",
    "''')\n",
    "\n",
    "# Create the drivers table\n",
    "mycursor.execute('''\n",
    "CREATE TABLE IF NOT EXISTS drivers (\n",
    "    driverId INTEGER PRIMARY KEY,\n",
    "    driver_name TEXT,\n",
    "    driver_nationality TEXT,\n",
    "    driver_number INTEGER\n",
    ");\n",
    "''')\n",
    "\n",
    "# Create the constructors table\n",
    "mycursor.execute('''\n",
    "CREATE TABLE IF NOT EXISTS constructors (\n",
    "    constructorId INTEGER PRIMARY KEY,\n",
    "    team TEXT\n",
    ");\n",
    "''')\n",
    "\n",
    "# Create the results table\n",
    "mycursor.execute('''\n",
    "CREATE TABLE IF NOT EXISTS results (\n",
    "    resultId INTEGER PRIMARY KEY,\n",
    "    grid INTEGER,\n",
    "    position INTEGER,\n",
    "    fastest_lap INTEGER,\n",
    "    points INTEGER,\n",
    "    raceId INTEGER,\n",
    "    driverId INTEGER,\n",
    "    constructorId INTEGER,\n",
    "    FOREIGN KEY (raceId) REFERENCES races(raceId),\n",
    "    FOREIGN KEY (driverId) REFERENCES drivers(driverId),\n",
    "    FOREIGN KEY (constructorId) REFERENCES constructors(constructorId)\n",
    ");\n",
    "''')\n",
    "\n",
    "# Commit the changes and close the connection\n",
    "mydb.commit()\n",
    "mydb.close()\n",
    "\n",
    "print(\"Tables created successfully!\")\n"
   ]
  },
  {
   "cell_type": "code",
   "execution_count": 2,
   "metadata": {},
   "outputs": [
    {
     "name": "stdout",
     "output_type": "stream",
     "text": [
      "Data inserted successfully!\n"
     ]
    }
   ],
   "source": [
    "# Reconnect to the database\n",
    "mydb = sqlite3.connect(\"race_results.db\")\n",
    "mycursor = mydb.cursor()\n",
    "\n",
    "# Insert data into circuits table\n",
    "mycursor.execute(\"INSERT INTO circuits (circuit_location) VALUES ('Portimão'), ('Sochi'), ('Imola');\")\n",
    "\n",
    "# Insert data into races table\n",
    "mycursor.execute('''\n",
    "INSERT INTO races (race_name, race_date, race_year, race_time, circuitId) \n",
    "VALUES \n",
    "    ('Portuguese Grand Prix', '2020-10-25', 2020, '1:29:56.828', 1),\n",
    "    ('Russian Grand Prix', '2020-09-27', 2020, '1:30:40.364', 2),\n",
    "    ('Emilia Romagna Grand Prix', '2020-11-01', 2020, '1:28:32.430', 3),\n",
    "    ('Hungarian Grand Prix', '2020-07-19', 2020, '1:36:17.473', 4),\n",
    "    ('Tuscan Grand Prix', '2020-09-13', 2020, '2:19:35.060', 5),\n",
    "    ('Sakhir Grand Prix', '2020-12-06', 2020, '1:31:15.114', 6),\n",
    "    ('Eifel Grand Prix', '2020-10-11', 2020, '1:35:49.641', 7),\n",
    "    ('Styrian Grand Prix', '2020-07-12', 2020, '1:22:50.683', 8),\n",
    "    ('Spanish Grand Prix', '2020-08-16', 2020, '1:35:47.315', 9),\n",
    "    ('Italian Grand Prix', '2020-09-06', 2020, '1:47:06.056', 10),\n",
    "    ('70th Anniversary Grand Prix', '2020-08-09', 2020, '1:19:41.993', 11),\n",
    "    ('Turkish Grand Prix', '2020-11-15', 2020, '1:42:19.313', 12);\n",
    "''')\n",
    "\n",
    "\n",
    "# Insert data into drivers table\n",
    "mycursor.execute('''\n",
    "INSERT INTO drivers (driver_name, driver_nationality, driver_number) \n",
    "VALUES ('Lewis Hamilton', 'British', 44), \n",
    "       ('Valtteri Bottas', 'Finnish', 77),\n",
    "       ('Max Verstappen', 'Dutch', 33),\n",
    "       ('Sergio Perez', 'Mexican', 11),\n",
    "       ('Pierre Gasly', 'French', 10);\n",
    "''')\n",
    "\n",
    "# Insert data into constructors table\n",
    "mycursor.execute('''\n",
    "INSERT INTO constructors (team) \n",
    "VALUES ('Mercedes'), \n",
    "       ('Red Bull'),\n",
    "       ('Racing Point'),\n",
    "       ('AlphaTauri');\n",
    "''')\n",
    "\n",
    "# Insert data into results table\n",
    "mycursor.execute('''\n",
    "INSERT INTO results (grid, position, fastest_lap, points, raceId, driverId, constructorId)\n",
    "VALUES (1, 1, 63, 25, 1, 1, 1),\n",
    "       (2, 2, 51, 18, 2, 2, 1),\n",
    "       (3, 3, 63, 15, 3, 1, 1),\n",
    "       (1, 1, 70, 26, 4, 1, 1),\n",
    "       (1, 1, 69, 25, 5, 1, 1),\n",
    "       (5, 1, 69, 25, 6, 4, 3),\n",
    "       (1, 1, 63, 25, 7, 1, 1),\n",
    "       (2, 2, 51, 18, 8, 2, 1),\n",
    "       (1, 1, 63, 26, 9, 1, 1),\n",
    "       (10, 1, 34, 25, 10, 5, 4),\n",
    "       (4, 1, 45, 26, 11, 3, 2),\n",
    "       (6, 1, 56, 25, 12, 1, 1);\n",
    "''')\n",
    "# Commit the changes and close the connection\n",
    "mydb.commit()\n",
    "mydb.close()\n",
    "\n",
    "print(\"Data inserted successfully!\")\n"
   ]
  },
  {
   "cell_type": "markdown",
   "metadata": {},
   "source": [
    "Write a query that will display the results below (Note: some columns might be renamed \n",
    "but use the column names above). It should only show 2020 data and order by driver \n",
    "points. "
   ]
  },
  {
   "cell_type": "code",
   "execution_count": 3,
   "metadata": {},
   "outputs": [
    {
     "name": "stdout",
     "output_type": "stream",
     "text": [
      "('Portimão', 1, 1, 70, 26, 'Lewis Hamilton', 'Portuguese Grand Prix', '1:29:56.828', 2020, 'Mercedes', '2020-10-25')\n",
      "('Imola', 1, 1, 63, 26, 'Lewis Hamilton', 'Sakhir Grand Prix', '1:31:15.114', 2020, 'Mercedes', '2020-12-06')\n",
      "('Sochi', 4, 1, 45, 26, 'Max Verstappen', 'Styrian Grand Prix', '1:22:50.683', 2020, 'Red Bull', '2020-07-12')\n",
      "('Portimão', 1, 1, 70, 26, 'Lewis Hamilton', 'Portuguese Grand Prix', '1:29:56.828', 2020, 'Mercedes', '2020-10-25')\n",
      "('Imola', 1, 1, 63, 26, 'Lewis Hamilton', 'Sakhir Grand Prix', '1:31:15.114', 2020, 'Mercedes', '2020-12-06')\n",
      "('Sochi', 4, 1, 45, 26, 'Max Verstappen', 'Styrian Grand Prix', '1:22:50.683', 2020, 'Red Bull', '2020-07-12')\n",
      "('Portimão', 1, 1, 63, 25, 'Lewis Hamilton', 'Portuguese Grand Prix', '1:29:56.828', 2020, 'Mercedes', '2020-10-25')\n",
      "('Portimão', 1, 1, 63, 25, 'Lewis Hamilton', 'Portuguese Grand Prix', '1:29:56.828', 2020, 'Mercedes', '2020-10-25')\n",
      "('Sochi', 1, 1, 69, 25, 'Lewis Hamilton', 'Russian Grand Prix', '1:30:40.364', 2020, 'Mercedes', '2020-09-27')\n",
      "('Imola', 5, 1, 69, 25, 'Lewis Hamilton', 'Emilia Romagna Grand Prix', '1:28:32.430', 2020, 'Mercedes', '2020-11-01')\n",
      "('Portimão', 1, 1, 63, 25, 'Lewis Hamilton', 'Hungarian Grand Prix', '1:36:17.473', 2020, 'Mercedes', '2020-07-19')\n",
      "('Portimão', 10, 1, 34, 25, 'Valtteri Bottas', 'Eifel Grand Prix', '1:35:49.641', 2020, 'Red Bull', '2020-10-11')\n",
      "('Imola', 6, 1, 56, 25, 'Lewis Hamilton', 'Spanish Grand Prix', '1:35:47.315', 2020, 'Mercedes', '2020-08-16')\n",
      "('Portimão', 1, 1, 63, 25, 'Lewis Hamilton', 'Portuguese Grand Prix', '1:29:56.828', 2020, 'Mercedes', '2020-10-25')\n",
      "('Sochi', 1, 1, 69, 25, 'Lewis Hamilton', 'Russian Grand Prix', '1:30:40.364', 2020, 'Mercedes', '2020-09-27')\n",
      "('Imola', 5, 1, 69, 25, 'Lewis Hamilton', 'Emilia Romagna Grand Prix', '1:28:32.430', 2020, 'Mercedes', '2020-11-01')\n",
      "('Portimão', 1, 1, 63, 25, 'Lewis Hamilton', 'Hungarian Grand Prix', '1:36:17.473', 2020, 'Mercedes', '2020-07-19')\n",
      "('Portimão', 10, 1, 34, 25, 'Valtteri Bottas', 'Eifel Grand Prix', '1:35:49.641', 2020, 'Red Bull', '2020-10-11')\n",
      "('Imola', 6, 1, 56, 25, 'Lewis Hamilton', 'Spanish Grand Prix', '1:35:47.315', 2020, 'Mercedes', '2020-08-16')\n",
      "('Sochi', 2, 2, 51, 18, 'Valtteri Bottas', 'Russian Grand Prix', '1:30:40.364', 2020, 'Mercedes', '2020-09-27')\n",
      "('Sochi', 2, 2, 51, 18, 'Valtteri Bottas', 'Russian Grand Prix', '1:30:40.364', 2020, 'Mercedes', '2020-09-27')\n",
      "('Sochi', 2, 2, 51, 18, 'Valtteri Bottas', 'Tuscan Grand Prix', '2:19:35.060', 2020, 'Mercedes', '2020-09-13')\n",
      "('Sochi', 2, 2, 51, 18, 'Valtteri Bottas', 'Russian Grand Prix', '1:30:40.364', 2020, 'Mercedes', '2020-09-27')\n",
      "('Sochi', 2, 2, 51, 18, 'Valtteri Bottas', 'Tuscan Grand Prix', '2:19:35.060', 2020, 'Mercedes', '2020-09-13')\n",
      "('Imola', 3, 3, 63, 15, 'Lewis Hamilton', 'Emilia Romagna Grand Prix', '1:28:32.430', 2020, 'Mercedes', '2020-11-01')\n",
      "('Imola', 3, 3, 63, 15, 'Lewis Hamilton', 'Emilia Romagna Grand Prix', '1:28:32.430', 2020, 'Mercedes', '2020-11-01')\n",
      "('Imola', 3, 3, 63, 15, 'Lewis Hamilton', 'Emilia Romagna Grand Prix', '1:28:32.430', 2020, 'Mercedes', '2020-11-01')\n"
     ]
    }
   ],
   "source": [
    "# Reconnect to the database\n",
    "mydb = sqlite3.connect(\"race_results.db\")\n",
    "mycursor = mydb.cursor()\n",
    "\n",
    "# Define the query\n",
    "query = '''\n",
    "SELECT c.circuit_location, \n",
    "       r.grid, \n",
    "       r.position, \n",
    "       r.fastest_lap, \n",
    "       r.points, \n",
    "       d.driver_name, \n",
    "       ra.race_name, \n",
    "       ra.race_time, \n",
    "       ra.race_year, \n",
    "       co.team, \n",
    "       ra.race_date \n",
    "FROM circuits c \n",
    "JOIN races ra ON c.circuitId = ra.circuitId\n",
    "JOIN results r ON ra.raceId = r.raceId \n",
    "JOIN drivers d ON r.driverId = d.driverId\n",
    "JOIN constructors co ON r.constructorId = co.constructorId\n",
    "WHERE ra.race_year = 2020\n",
    "ORDER BY r.points DESC;\n",
    "'''\n",
    "\n",
    "# Execute the query\n",
    "mycursor.execute(query)\n",
    "results = mycursor.fetchall()\n",
    "\n",
    "# Print the results\n",
    "for row in results:\n",
    "    print(row)\n",
    "\n",
    "# Close the connection\n",
    "mydb.close()\n"
   ]
  },
  {
   "cell_type": "markdown",
   "metadata": {},
   "source": [
    "Write a Python function that checks whether a word or phrase is palindrome or\n",
    "not.\n",
    "Note: A palindrome is word, phrase, or sequence that reads the same\n",
    "backward as forward, e.g., madam,kayak,racecar, or a phrase \"nurses run\""
   ]
  },
  {
   "cell_type": "code",
   "execution_count": null,
   "metadata": {},
   "outputs": [],
   "source": [
    "def is_palindrome(text):\n",
    "    # Splits the input text into a list of words\n",
    "    word_list = text.split(\" \")\n",
    "\n",
    "    # Reverses each word in the list\n",
    "    reversed_words = [w[::-1] for w in word_list]\n",
    "    \n",
    "    # Joins the reversed words back into a single string\n",
    "    reversed_text = \" \".join(reversed_words)\n",
    "\n",
    "    # Compares the original text with the reversed text to check for palindrome\n",
    "    if text == reversed_text:\n",
    "        print(\"The word is a palindrome\")\n",
    "    else:\n",
    "        print(\"The word is not a palindrome\")\n",
    "\n",
    "# Testing the function with an example\n",
    "is_palindrome(\"racecar\")\n",
    "\n"
   ]
  },
  {
   "cell_type": "markdown",
   "metadata": {},
   "source": [
    "Write a Python function to check whether a string is pangram or not. (Assume\n",
    "the string passed in does not have any punctuation)\n",
    "Note: Pangrams are words or sentences containing every letter of the\n",
    "alphabet at least once. For example: \"The quick brown fox jumps over the\n",
    "lazy dog\""
   ]
  },
  {
   "cell_type": "code",
   "execution_count": 11,
   "metadata": {},
   "outputs": [
    {
     "name": "stdout",
     "output_type": "stream",
     "text": [
      "Input: 'The quick brown fox jumps over the lazy dog'\n",
      "Output: True, Got: True\n",
      "Input: 'Hello world'\n",
      "Output: False, Got: False\n",
      "All tests passed!\n"
     ]
    }
   ],
   "source": [
    "def check_pangram(text):\n",
    "    # Converting the string to lowercase\n",
    "    text = text.lower()\n",
    "\n",
    "    # Creating a set of all letters in the English alphabet\n",
    "    alphabet_set = set('abcdefghijklmnopqrstuvwxyz')\n",
    "\n",
    "    # Create a set of unique letters from the input string\n",
    "    letters_in_text = set(text)\n",
    "\n",
    "    # Checking if all alphabet letters are in the letters of the input string\n",
    "    return alphabet_set.issubset(letters_in_text)\n",
    "\n",
    "\n",
    "# Test cases for the check_pangram function\n",
    "def test_check_pangram():\n",
    "    test_cases = [\n",
    "        (\"The quick brown fox jumps over the lazy dog\", True),\n",
    "        (\"Hello world\", False),\n",
    "    ]\n",
    "\n",
    "    for text, output in test_cases:\n",
    "        result = check_pangram(text)\n",
    "        print(f\"Input: '{text}'\\nOutput: {output}, Got: {result}\")\n",
    "        assert result == output, f\"Test failed for input: {text}\"\n",
    "\n",
    "    print(\"All tests passed!\")\n",
    "\n",
    "\n",
    "# Run the tests\n",
    "test_check_pangram()\n",
    "\n"
   ]
  },
  {
   "cell_type": "markdown",
   "metadata": {},
   "source": [
    "Write a program that takes an integer as input and returns an integer with\n",
    "reversed digit ordering.\n",
    "Examples:\n",
    "For input 500, the program should return 5.\n",
    "For input -56, the program should return -65.\n",
    "For input -90, the program should return -9.\n",
    "For input 91, the program should return 19."
   ]
  },
  {
   "cell_type": "code",
   "execution_count": 5,
   "metadata": {},
   "outputs": [
    {
     "name": "stdout",
     "output_type": "stream",
     "text": [
      "5\n",
      "-65\n",
      "-9\n",
      "19\n"
     ]
    }
   ],
   "source": [
    "def reverse_integer(n):\n",
    "    # Get the sign of the integer (-1 for negative, 1 for positive)\n",
    "    sign = -1 if n < 0 else 1\n",
    "    \n",
    "    # Make the number positive for reversal\n",
    "    n = abs(n)\n",
    "    \n",
    "    # Initialize reversed_num to 0\n",
    "    reversed_num = 0\n",
    "    \n",
    "    # Reverse the digits\n",
    "    while n != 0:\n",
    "        # Extract the last digit\n",
    "        digit = n % 10\n",
    "        \n",
    "        # Append digit to the reversed number\n",
    "        reversed_num = reversed_num * 10 + digit\n",
    "        \n",
    "        # Remove the last digit from n\n",
    "        n = n // 10\n",
    "    \n",
    "    # Apply the original sign to the reversed number\n",
    "    return sign * reversed_num\n",
    "\n",
    "# Test the function\n",
    "print(reverse_integer(500))   # Output: 5\n",
    "print(reverse_integer(-56))   # Output: -65\n",
    "print(reverse_integer(-90))   # Output: -9\n",
    "print(reverse_integer(91))    # Output: 19\n"
   ]
  },
  {
   "cell_type": "markdown",
   "metadata": {},
   "source": [
    "Write a program that accepts a string as input, capitalizes the first letter of each\n",
    "word in the string, and then returns the result string.\n",
    "Examples:\n",
    "\"hi\"=> returns \"Hi\"\n",
    "\"i love programming\"=> returns \"I Love Programming\""
   ]
  },
  {
   "cell_type": "code",
   "execution_count": 7,
   "metadata": {},
   "outputs": [
    {
     "name": "stdout",
     "output_type": "stream",
     "text": [
      "Capitalized string: Hi\n"
     ]
    }
   ],
   "source": [
    "def capitalize_words(text):\n",
    "    # Split the input text into individual words\n",
    "    split_words = text.split()\n",
    "    \n",
    "    # Capitalize each word in the list\n",
    "    updated_words = [word.capitalize() for word in split_words]\n",
    "    \n",
    "    # Join the list back into a single string with spaces between words\n",
    "    return ' '.join(updated_words)\n",
    "\n",
    "def run_program():\n",
    "    # Prompt the user for input\n",
    "    input_text = input(\"Enter a string: \")\n",
    "    \n",
    "    # Process the input to capitalize each word\n",
    "    output_text = capitalize_words(input_text)\n",
    "    \n",
    "    # Print the result\n",
    "    print(\"Capitalized string:\", output_text)\n",
    "\n",
    "if __name__ == \"__main__\":\n",
    "    run_program()\n"
   ]
  }
 ],
 "metadata": {
  "kernelspec": {
   "display_name": "base",
   "language": "python",
   "name": "python3"
  },
  "language_info": {
   "codemirror_mode": {
    "name": "ipython",
    "version": 3
   },
   "file_extension": ".py",
   "mimetype": "text/x-python",
   "name": "python",
   "nbconvert_exporter": "python",
   "pygments_lexer": "ipython3",
   "version": "3.11.4"
  }
 },
 "nbformat": 4,
 "nbformat_minor": 2
}
